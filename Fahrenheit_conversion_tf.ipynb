{
  "nbformat": 4,
  "nbformat_minor": 0,
  "metadata": {
    "colab": {
      "name": "Fahrenheit_conversion_tf.ipynb",
      "provenance": [],
      "authorship_tag": "ABX9TyPVBk3/BJDc+VGo9Khd9IHK"
    },
    "kernelspec": {
      "name": "python3",
      "display_name": "Python 3"
    },
    "accelerator": "GPU"
  },
  "cells": [
    {
      "cell_type": "code",
      "metadata": {
        "id": "HJKC2dVBPlPy"
      },
      "source": [
        "import tensorflow as tf\r\n",
        "import numpy as np"
      ],
      "execution_count": 2,
      "outputs": []
    },
    {
      "cell_type": "code",
      "metadata": {
        "id": "qV-KtSeAP8gu"
      },
      "source": [
        "celsius_train = np.array([-40, -10, 0, 8, 15, 22, 38], dtype=float)\r\n",
        "fahrenheit_train = np.array([-40, 14, 32, 46, 59, 72, 100], dtype=float)"
      ],
      "execution_count": 3,
      "outputs": []
    },
    {
      "cell_type": "code",
      "metadata": {
        "id": "n4_hzrL-SOC2"
      },
      "source": [
        "model = tf.keras.Sequential([tf.keras.layers.Dense(units = 1, input_shape = [1])])"
      ],
      "execution_count": 4,
      "outputs": []
    },
    {
      "cell_type": "code",
      "metadata": {
        "id": "sXZf9sHzSlTG"
      },
      "source": [
        "model.compile(loss = 'mean_squared_error', optimizer = tf.keras.optimizers.Adam(0.1))"
      ],
      "execution_count": 5,
      "outputs": []
    },
    {
      "cell_type": "code",
      "metadata": {
        "colab": {
          "base_uri": "https://localhost:8080/"
        },
        "id": "uWvMU_B_S8GO",
        "outputId": "e4e45856-47dc-4446-9f9b-6803e531788a"
      },
      "source": [
        "training = model.fit(celsius_train, fahrenheit_train, epochs= 500, verbose=False)\r\n",
        "print(\"Finished training the model\")"
      ],
      "execution_count": 6,
      "outputs": [
        {
          "output_type": "stream",
          "text": [
            "Finished training the model\n"
          ],
          "name": "stdout"
        }
      ]
    },
    {
      "cell_type": "code",
      "metadata": {
        "colab": {
          "base_uri": "https://localhost:8080/",
          "height": 297
        },
        "id": "VGPdnRXETMod",
        "outputId": "5590e249-1641-4608-cf90-d609d331ae77"
      },
      "source": [
        "import matplotlib.pyplot as plt\r\n",
        "plt.xlabel(\"Epochs\")\r\n",
        "plt.ylabel(\"Loss\")\r\n",
        "plt.plot(training.history[\"loss\"])"
      ],
      "execution_count": 7,
      "outputs": [
        {
          "output_type": "execute_result",
          "data": {
            "text/plain": [
              "[<matplotlib.lines.Line2D at 0x7fc0f04e5588>]"
            ]
          },
          "metadata": {
            "tags": []
          },
          "execution_count": 7
        },
        {
          "output_type": "display_data",
          "data": {
            "image/png": "[encoded data removed]",
            "text/plain": [
              "<Figure size 432x288 with 1 Axes>"
            ]
          },
          "metadata": {
            "tags": [],
            "needs_background": "light"
          }
        }
      ]
    }
  ]
}