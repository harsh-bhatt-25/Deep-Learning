{
  "nbformat": 4,
  "nbformat_minor": 0,
  "metadata": {
    "colab": {
      "name": "Fahrenheit_conversion_tf.ipynb",
      "provenance": [],
      "authorship_tag": "ABX9TyNVZuazV4gbJ4n/oX0U419b",
      "include_colab_link": true
    },
    "kernelspec": {
      "name": "python3",
      "display_name": "Python 3"
    },
    "accelerator": "GPU"
  },
  "cells": [
    {
      "cell_type": "markdown",
      "metadata": {
        "id": "view-in-github",
        "colab_type": "text"
      },
      "source": [
        "<a href=\"https://colab.research.google.com/github/harsh-bhatt-25/Deep-Learning/blob/main/Fahrenheit_conversion_tf.ipynb\" target=\"_parent\"><img src=\"https://colab.research.google.com/assets/colab-badge.svg\" alt=\"Open In Colab\"/></a>"
      ]
    },
    {
      "cell_type": "code",
      "metadata": {
        "id": "HJKC2dVBPlPy"
      },
      "source": [
        "import tensorflow as tf\r\n",
        "import numpy as np"
      ],
      "execution_count": 5,
      "outputs": []
    },
    {
      "cell_type": "code",
      "metadata": {
        "id": "qV-KtSeAP8gu"
      },
      "source": [
        "celsius_train = np.array([-40, -10, 0, 8, 15, 22, 38], dtype=float)\r\n",
        "fahrenheit_train = np.array([-40, 14, 32, 46, 59, 72, 100], dtype=float)"
      ],
      "execution_count": 6,
      "outputs": []
    },
    {
      "cell_type": "code",
      "metadata": {
        "id": "n4_hzrL-SOC2"
      },
      "source": [
        "model = tf.keras.Sequential([tf.keras.layers.Dense(units = 1, input_shape = [1])])"
      ],
      "execution_count": 9,
      "outputs": []
    },
    {
      "cell_type": "code",
      "metadata": {
        "id": "sXZf9sHzSlTG"
      },
      "source": [
        "model.compile(loss = 'mean_squared_error', optimizer = tf.keras.optimizers.Adam(0.1))"
      ],
      "execution_count": 10,
      "outputs": []
    },
    {
      "cell_type": "code",
      "metadata": {
        "colab": {
          "base_uri": "https://localhost:8080/"
        },
        "id": "uWvMU_B_S8GO",
        "outputId": "84a3c9e5-835e-49bc-86cf-ae2ecedc569e"
      },
      "source": [
        "training = model.fit(celsius_train, fahrenheit_train, epochs= 500, verbose=False)\r\n",
        "print(\"Finished training the model\")"
      ],
      "execution_count": 11,
      "outputs": [
        {
          "output_type": "stream",
          "text": [
            "Finished training the model\n"
          ],
          "name": "stdout"
        }
      ]
    },
    {
      "cell_type": "code",
      "metadata": {
        "colab": {
          "base_uri": "https://localhost:8080/",
          "height": 297
        },
        "id": "VGPdnRXETMod",
        "outputId": "b7c65534-4bbf-40a7-852a-a91506d7db8a"
      },
      "source": [
        "import matplotlib.pyplot as plt\r\n",
        "plt.xlabel(\"Loss\")\r\n",
        "plt.ylabel(\"Epochs\")\r\n",
        "plt.plot(training.history[\"loss\"])"
      ],
      "execution_count": 15,
      "outputs": [
        {
          "output_type": "execute_result",
          "data": {
            "text/plain": [
              "[<matplotlib.lines.Line2D at 0x7ff61966fb70>]"
            ]
          },
          "metadata": {
            "tags": []
          },
          "execution_count": 15
        },
        {
          "output_type": "display_data",
          "data": {
            "image/png": "[encoded data removed]",
            "text/plain": [
              "<Figure size 432x288 with 1 Axes>"
            ]
          },
          "metadata": {
            "tags": [],
            "needs_background": "light"
          }
        }
      ]
    }
  ]
}